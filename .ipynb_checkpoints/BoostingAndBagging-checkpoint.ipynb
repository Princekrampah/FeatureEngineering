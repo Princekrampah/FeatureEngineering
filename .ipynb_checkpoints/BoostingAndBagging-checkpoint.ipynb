{
 "cells": [
  {
   "cell_type": "markdown",
   "metadata": {},
   "source": [
    "## BOOSTING"
   ]
  },
  {
   "cell_type": "markdown",
   "metadata": {},
   "source": [
    "Boosting is an emsemble machine learning technique that uses a set of machine learning algorithms to combine a set of weak learner to form a strong learning, with the aim of increasing accuracy of the model."
   ]
  },
  {
   "cell_type": "markdown",
   "metadata": {},
   "source": [
    "## Ensemble Learning\n",
    "\n",
    "This is a method which combines several machine learning algorithms to form one super learning. This is done with the aim of improving the model efficiency and accuracy."
   ]
  },
  {
   "cell_type": "markdown",
   "metadata": {},
   "source": [
    "### Types Of Ensemble Learning\n",
    "\n",
    "\n",
    "#### Boosting or Sequential learning\n",
    "\n",
    "Boosting involve using the weak learning in a sequential method or manner. In boosting, mis-classifications are given more attention and weight."
   ]
  },
  {
   "cell_type": "markdown",
   "metadata": {},
   "source": [
    "#### Bagging or Parallel learning\n",
    "\n",
    "This involves the use paralleling training models. Each parallel model is trained on a bootstrap data set."
   ]
  },
  {
   "cell_type": "markdown",
   "metadata": {},
   "source": [
    "## How Boosting Algorithm Works\n",
    "\n",
    "In each iteration, identifies miss-classified data points, increasing their weights (and decrease the weights of correct points, in a sense) so that the next classifier will pay extra attention to get them right.\n",
    "\n",
    "Consider the image below we have can observe the decision boundary changing as the wrongly classified data is given more weight.\n",
    "\n",
    "[source](https://towardsdatascience.com/boosting-algorithms-explained-d38f56ef3f30)"
   ]
  },
  {
   "cell_type": "markdown",
   "metadata": {},
   "source": [
    "![boosting](boosting1.png)"
   ]
  },
  {
   "cell_type": "markdown",
   "metadata": {},
   "source": [
    "## Types of Boosting\n",
    "\n",
    "1. Adaptive Boosting\n",
    "2. Gradient Boosting\n",
    "3. XGboost"
   ]
  },
  {
   "cell_type": "markdown",
   "metadata": {},
   "source": [
    "## Adaptive boosting\n",
    "\n",
    "This model first assigns equal weights to to all samples then, the data is passed to the first model in the sequence.\n",
    "\n",
    "In each iteration, identifies miss-classified data points, increasing their weights (and decrease the weights of correct points, in a sense) so that the next classifier will pay extra attention to get them right.\n",
    "\n",
    "[source](https://towardsdatascience.com/boosting-algorithms-explained-d38f56ef3f30)\n",
    "\n",
    "It can be used for both classification and regression problems but commonly used for classification."
   ]
  },
  {
   "cell_type": "markdown",
   "metadata": {},
   "source": [
    "## Gradient Boosting\n",
    "\n",
    "This is designed in such a way that the present base learning is always more effective thant the previous learner in the sequence.\n",
    "\n",
    "Unlike adaptive boosting, the gradient boosting is does not increase the weight for the mis-classified sample. Instead, the **loss function of the previous learning is optimized.** This is done to reduce the error of the previous leaner.\n",
    "\n",
    "**Gradient Boosting has the following componentes:**\n",
    "\n",
    "1. Loss function\n",
    "2. weaker learning that form stronger learners.\n",
    "3. An additive model that regulates the loss functions.\n",
    "\n",
    "It supports both regression and classification problems."
   ]
  },
  {
   "cell_type": "markdown",
   "metadata": {},
   "source": [
    "## XGBoost\n",
    "\n",
    "This is an advanced form of gradient boosting that is optimized to focus on computational speed and efficiency.\n",
    "\n",
    "**It supports**\n",
    "\n",
    "1. Parallelization\n",
    "2. Distributed computing\n",
    "3. Cache optimization"
   ]
  },
  {
   "cell_type": "markdown",
   "metadata": {},
   "source": []
  },
  {
   "cell_type": "markdown",
   "metadata": {},
   "source": []
  },
  {
   "cell_type": "markdown",
   "metadata": {},
   "source": []
  },
  {
   "cell_type": "markdown",
   "metadata": {},
   "source": []
  }
 ],
 "metadata": {
  "kernelspec": {
   "display_name": "Python 3",
   "language": "python",
   "name": "python3"
  },
  "language_info": {
   "codemirror_mode": {
    "name": "ipython",
    "version": 3
   },
   "file_extension": ".py",
   "mimetype": "text/x-python",
   "name": "python",
   "nbconvert_exporter": "python",
   "pygments_lexer": "ipython3",
   "version": "3.8.3"
  },
  "toc": {
   "base_numbering": 1,
   "nav_menu": {},
   "number_sections": true,
   "sideBar": true,
   "skip_h1_title": false,
   "title_cell": "Table of Contents",
   "title_sidebar": "Contents",
   "toc_cell": false,
   "toc_position": {},
   "toc_section_display": true,
   "toc_window_display": false
  }
 },
 "nbformat": 4,
 "nbformat_minor": 4
}
